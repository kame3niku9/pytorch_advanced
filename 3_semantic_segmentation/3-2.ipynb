{
 "cells": [
  {
   "cell_type": "code",
   "execution_count": 33,
   "metadata": {},
   "outputs": [],
   "source": [
    "import os\n",
    "import random\n",
    "import numpy as np\n",
    "from PIL import Image\n",
    "\n",
    "import torch\n",
    "import torch.utils.data as data\n",
    "import torch.nn as nn"
   ]
  },
  {
   "cell_type": "code",
   "execution_count": 21,
   "metadata": {},
   "outputs": [],
   "source": [
    "seed = 1234\n",
    "torch.manual_seed(seed)\n",
    "np.random.seed(seed)\n",
    "random.seed(seed)"
   ]
  },
  {
   "cell_type": "code",
   "execution_count": 22,
   "metadata": {},
   "outputs": [],
   "source": [
    "# 画像データ、annoデータへのファイルパスリストを作成\n",
    "def make_datapath_list(rootpath):\n",
    "    imgpath_template = os.path.join(rootpath, 'JPEGImages', '%s.jpg')\n",
    "    annopath_template = os.path.join(rootpath, 'SegmentationClass', '%s.png')\n",
    "    \n",
    "    train_id_names = os.path.join(rootpath + 'ImageSets/Segmentation/train.txt')\n",
    "    val_id_names = os.path.join(rootpath + 'ImageSets/Segmentation/val.txt')\n",
    "    \n",
    "    train_img_list = []\n",
    "    train_anno_list = []\n",
    "    \n",
    "    for line in open(train_id_names):\n",
    "        file_id = line.strip()\n",
    "        img_path = (imgpath_template % file_id)\n",
    "        anno_path = (annopath_template % file_id)\n",
    "        train_img_list.append(img_path)\n",
    "        train_anno_list.append(anno_path)\n",
    "        \n",
    "    val_img_list = []\n",
    "    val_anno_list = []\n",
    "    \n",
    "    for line in open(val_id_names):\n",
    "        file_id = line.strip()\n",
    "        img_path = (imgpath_template % file_id)\n",
    "        anno_path = (annopath_template % file_id)\n",
    "        val_img_list.append(img_path)\n",
    "        val_anno_list.append(anno_path)\n",
    "        \n",
    "    return train_img_list, train_anno_list, val_img_list, val_anno_list"
   ]
  },
  {
   "cell_type": "code",
   "execution_count": 23,
   "metadata": {},
   "outputs": [
    {
     "name": "stdout",
     "output_type": "stream",
     "text": [
      "./data/VOCdevkit/VOC2012/JPEGImages/2007_000032.jpg\n",
      "./data/VOCdevkit/VOC2012/SegmentationClass/2007_000032.png\n"
     ]
    }
   ],
   "source": [
    "# 動作確認\n",
    "rootpath = './data/VOCdevkit/VOC2012/'\n",
    "train_img_list, train_anno_list, val_img_list, val_anno_list = make_datapath_list(rootpath)\n",
    "\n",
    "print(train_img_list[0])\n",
    "print(train_anno_list[0])\n"
   ]
  },
  {
   "cell_type": "code",
   "execution_count": 24,
   "metadata": {},
   "outputs": [],
   "source": [
    "# Data Augmentation\n",
    "# 画像のサイズを0.5-1.5に変化\n",
    "# RandomRotationで画像回転 -10 ~ 10 deg\n",
    "# RandomMirrorで1/2左右回転\n",
    "# Resize, Normalize_Tensor\n",
    "\n",
    "# DataTransformの作成\n",
    "from utils.data_augumentation import Compose, Scale, RandomRotation, RandomMirror, Resize, Normalize_Tensor\n",
    "\n",
    "class DataTransform():\n",
    "    def __init__(self, input_size, color_mean, color_std):\n",
    "        self.data_transform = {\n",
    "            'train': Compose([\n",
    "                Scale(scale=[0.5, 1.5]),\n",
    "                RandomRotation(angle=[-10, 10]),\n",
    "                RandomMirror(),\n",
    "                Resize(input_size),\n",
    "                Normalize_Tensor(color_mean, color_std),                    \n",
    "            ]),\n",
    "            'val': Compose([\n",
    "                Resize(input_size),\n",
    "                Normalize_Tensor(color_mean, color_std),\n",
    "            ])\n",
    "        }\n",
    "    def __call__(self, phase, img, anno_class_img):\n",
    "        return self.data_transform[phase](img, anno_class_img)"
   ]
  },
  {
   "cell_type": "code",
   "execution_count": 25,
   "metadata": {},
   "outputs": [],
   "source": [
    "# Datasetの作成\n",
    "class VOCDataset(data.Dataset):\n",
    "    def __init__(self, img_list, anno_list, phase, transform):\n",
    "        self.img_list = img_list\n",
    "        self.anno_list = anno_list\n",
    "        self.phase = phase\n",
    "        self.transform = transform\n",
    "        \n",
    "    def __len__(self):\n",
    "        return len(self.img_list)\n",
    "    \n",
    "    def __getitem__(self, index):\n",
    "        img, anno_class_img = self.pull_item(index)\n",
    "        return img, anno_class_img\n",
    "    \n",
    "    def pull_item(self, index):\n",
    "        image_file_path = self.img_list[index]\n",
    "        img = Image.open(image_file_path)\n",
    "        \n",
    "        anno_file_path = self.anno_list[index]\n",
    "        anno_class_img = Image.open(anno_file_path)\n",
    "        \n",
    "        img, anno_class_img = self.transform(phase=self.phase, img=img, anno_class_img=anno_class_img)\n",
    "        return img, anno_class_img"
   ]
  },
  {
   "cell_type": "code",
   "execution_count": 28,
   "metadata": {},
   "outputs": [
    {
     "name": "stdout",
     "output_type": "stream",
     "text": [
      "torch.Size([3, 475, 475])\n",
      "torch.Size([475, 475])\n",
      "(tensor([[[ 1.6667,  1.5125,  1.5639,  ...,  1.7523,  1.6667,  1.7009],\n",
      "         [ 1.5810,  1.4269,  1.4783,  ...,  1.7009,  1.6153,  1.6495],\n",
      "         [ 1.5639,  1.4098,  1.4440,  ...,  1.6838,  1.5982,  1.6324],\n",
      "         ...,\n",
      "         [-0.4739, -0.4911, -0.5424,  ...,  1.2557,  1.1872,  1.2214],\n",
      "         [-0.5596, -0.4911, -0.4911,  ...,  1.2385,  1.1872,  1.2214],\n",
      "         [-0.6281, -0.3883, -0.3369,  ...,  1.2385,  1.1872,  1.2214]],\n",
      "\n",
      "        [[ 1.8333,  1.6758,  1.7283,  ...,  1.9209,  1.8333,  1.8683],\n",
      "         [ 1.7458,  1.5882,  1.6408,  ...,  1.8683,  1.7808,  1.8158],\n",
      "         [ 1.7283,  1.5707,  1.6057,  ...,  1.8508,  1.7633,  1.7983],\n",
      "         ...,\n",
      "         [-0.5826, -0.6001, -0.6527,  ...,  1.4132,  1.3431,  1.3431],\n",
      "         [-0.6702, -0.6001, -0.6001,  ...,  1.3957,  1.3431,  1.3431],\n",
      "         [-0.7402, -0.4951, -0.4426,  ...,  1.3957,  1.3431,  1.3431]],\n",
      "\n",
      "        [[ 2.0474,  1.8905,  1.9428,  ...,  2.1346,  2.0474,  2.0823],\n",
      "         [ 1.9603,  1.8034,  1.8557,  ...,  2.0823,  1.9951,  2.0300],\n",
      "         [ 1.9428,  1.7860,  1.8208,  ...,  2.0648,  1.9777,  2.0125],\n",
      "         ...,\n",
      "         [-0.6367, -0.6541, -0.7064,  ...,  1.6291,  1.5594,  1.5768],\n",
      "         [-0.7238, -0.6541, -0.6541,  ...,  1.6117,  1.5594,  1.5768],\n",
      "         [-0.7936, -0.5495, -0.4973,  ...,  1.6117,  1.5594,  1.5768]]]), tensor([[0, 0, 0,  ..., 0, 0, 0],\n",
      "        [0, 0, 0,  ..., 0, 0, 0],\n",
      "        [0, 0, 0,  ..., 0, 0, 0],\n",
      "        ...,\n",
      "        [0, 0, 0,  ..., 0, 0, 0],\n",
      "        [0, 0, 0,  ..., 0, 0, 0],\n",
      "        [0, 0, 0,  ..., 0, 0, 0]], dtype=torch.uint8))\n"
     ]
    }
   ],
   "source": [
    "# 動作確認\n",
    "color_mean = (0.485, 0.456, 0.406)\n",
    "color_std = (0.229, 0.224, 0.225)\n",
    "\n",
    "train_dataset = VOCDataset(train_img_list, train_anno_list, phase='train',\n",
    "                          transform=DataTransform(input_size=475, color_mean=color_mean, color_std=color_std))\n",
    "val_dataset = VOCDataset(val_img_list, val_anno_list, phase='val',\n",
    "                        transform=DataTransform(input_size=475, color_mean=color_mean, color_std=color_std)\n",
    "                        )\n",
    "print(val_dataset.__getitem__(0)[0].shape)\n",
    "print(val_dataset.__getitem__(0)[1].shape)\n",
    "print(val_dataset.__getitem__(0))"
   ]
  },
  {
   "cell_type": "code",
   "execution_count": 29,
   "metadata": {},
   "outputs": [],
   "source": [
    "# DataLoaderの作成\n",
    "batch_size = 8\n",
    "\n",
    "train_dataloader = data.DataLoader(train_dataset, batch_size=batch_size, shuffle=True)\n",
    "\n",
    "val_dataloader = data.DataLoader(val_dataset, batch_size=batch_size, shuffle=False)\n",
    "\n",
    "dataloaders_dict = {'train': train_dataloader, 'val': val_dataloader}"
   ]
  },
  {
   "cell_type": "code",
   "execution_count": 30,
   "metadata": {},
   "outputs": [
    {
     "name": "stdout",
     "output_type": "stream",
     "text": [
      "torch.Size([8, 3, 475, 475])\n",
      "torch.Size([8, 475, 475])\n"
     ]
    }
   ],
   "source": [
    "# check\n",
    "batch_iterator = iter(dataloaders_dict['val'])\n",
    "imgs, anno_class_imgs = next(batch_iterator)\n",
    "print(imgs.size())\n",
    "print(anno_class_imgs.size())"
   ]
  },
  {
   "cell_type": "code",
   "execution_count": 34,
   "metadata": {},
   "outputs": [],
   "source": []
  },
  {
   "cell_type": "code",
   "execution_count": null,
   "metadata": {},
   "outputs": [],
   "source": []
  }
 ],
 "metadata": {
  "kernelspec": {
   "display_name": "Python [conda env:new]",
   "language": "python",
   "name": "conda-env-new-py"
  },
  "language_info": {
   "codemirror_mode": {
    "name": "ipython",
    "version": 3
   },
   "file_extension": ".py",
   "mimetype": "text/x-python",
   "name": "python",
   "nbconvert_exporter": "python",
   "pygments_lexer": "ipython3",
   "version": "3.6.5"
  }
 },
 "nbformat": 4,
 "nbformat_minor": 2
}
